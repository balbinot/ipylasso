{
 "cells": [
  {
   "cell_type": "code",
   "execution_count": 1,
   "metadata": {},
   "outputs": [],
   "source": [
    "## You must have jupyter-matplotlib (aka ipympl) installed\n",
    "%matplotlib widget\n",
    "\n",
    "import numpy as np\n",
    "import matplotlib.pyplot as plt\n",
    "\n",
    "## For displaying and controlling the app\n",
    "from ipywidgets import AppLayout, FloatSlider, widgets\n",
    "from IPython.display import HTML, display, FileLink\n",
    "import tabulate\n",
    "\n",
    "from matplotlib.path import Path as mpl_path\n",
    "def inside_poly(data, vertices):\n",
    "    \"\"\" This is a simple implementation of the 'ray-tracing' method for points inside polygons \"\"\"\n",
    "    return mpl_path(vertices).contains_points(data)"
   ]
  },
  {
   "cell_type": "code",
   "execution_count": 2,
   "metadata": {},
   "outputs": [],
   "source": [
    "## This is the class that works the magic. Ideally place it in a separate non-ipynb file\n",
    "class LineBuilder:\n",
    "    def __init__(self, line):\n",
    "        ## The class is initialized on a empty plot with style attributes only\n",
    "        self.line = line\n",
    "        self.xs = list(line.get_xdata())\n",
    "        self.ys = list(line.get_ydata())\n",
    "        self.cid = line.figure.canvas.mpl_connect('button_press_event', self)\n",
    "        \n",
    "        ## Ipython output fields\n",
    "        self.out = widgets.Output(layout={'border': '1px solid grey',\n",
    "                                          'max_width': '80 px',\n",
    "                                          'min_width': '50 px'\n",
    "                                         })\n",
    "        \n",
    "        self.controls = widgets.Output(layout={'border': '1px solid grey',\n",
    "                                          'max_width': '80 px',\n",
    "                                          'min_width': '50 px'\n",
    "                                         })\n",
    "        \n",
    "        with self.out:\n",
    "            self.dh = display(display_id=True) \n",
    "        with self.controls:\n",
    "            self.button1 = widgets.Button(description=\"Export\")\n",
    "            self.button2 = widgets.Button(description=\"Clear\")\n",
    "            self.button3 = widgets.Button(description=\"Give Kudos\")\n",
    "            display(self.button1)\n",
    "            display(self.button2)\n",
    "            display(self.button3)\n",
    "            self.button1.on_click(self._export)\n",
    "            self.button2.on_click(self._clear)\n",
    "            self.button3.on_click(self._kudos)\n",
    "\n",
    "    def _export(self, b):\n",
    "        table = np.array([self.xs, self.ys]).T\n",
    "        np.savetxt('polygon.csv', table, delimiter=',', header=\"X, Y\", comments='')\n",
    "        local_file = FileLink('./polygon.csv', result_html_prefix=\"Click here to download: \")\n",
    "        with self.controls:\n",
    "            display(local_file)\n",
    "    \n",
    "    def _clear(self, b):\n",
    "        self.xs = []\n",
    "        self.ys = []\n",
    "        self.line.set_data(self.xs, self.ys)\n",
    "        self.line.figure.canvas.draw()\n",
    "        self._updatetable()\n",
    "        \n",
    "    def _kudos(self, b):\n",
    "        with self.out:\n",
    "            self.dh.display('Kudos! ')\n",
    "            \n",
    "    def _updatetable(self):\n",
    "        table = np.array([self.xs, self.ys]).T\n",
    "        with self.out:\n",
    "            self.out.clear_output()\n",
    "            self.dh.display(HTML(tabulate.tabulate(table, tablefmt='html'))) \n",
    "            \n",
    "    def __call__(self, event):\n",
    "        if event.inaxes!=self.line.axes: return\n",
    "        self.xs.append(event.xdata)\n",
    "        self.ys.append(event.ydata)\n",
    "        self.line.set_data(self.xs, self.ys)\n",
    "        self.line.figure.canvas.draw()\n",
    "        self._updatetable()\n",
    "        \n",
    "    def get_mask(self):\n",
    "        \"\"\" You can also just get the polygon without saving it via the export button\"\"\"\n",
    "        return(np.array([self.xs, self.ys]).T)"
   ]
  },
  {
   "cell_type": "code",
   "execution_count": 3,
   "metadata": {},
   "outputs": [
    {
     "data": {
      "application/vnd.jupyter.widget-view+json": {
       "model_id": "43a6162e24e042969a1e6f827c83bcb9",
       "version_major": 2,
       "version_minor": 0
      },
      "text/plain": [
       "AppLayout(children=(Output(layout=Layout(border='1px solid grey', grid_area='left-sidebar', max_width='80 px',…"
      ]
     },
     "metadata": {},
     "output_type": "display_data"
    }
   ],
   "source": [
    "plt.ioff() ## Needed to avoid double output\n",
    "\n",
    "## A plot with some nice data\n",
    "fig = plt.figure()\n",
    "x = np.random.rand(100)\n",
    "y = np.random.rand(100)\n",
    "plt.plot(x, y, 'o')\n",
    "\n",
    "line, = plt.plot([], [], 'ro-') ## The style of the polygon drawing is set by this empty line object\n",
    "linebuilder = LineBuilder(line) # Initialized the selection class\n",
    "\n",
    "# Add the selection output and controls to the ipympl App\n",
    "AppLayout(\n",
    "    center=fig.canvas,\n",
    "    right_sidebar=linebuilder.out,\n",
    "    left_sidebar=linebuilder.controls,\n",
    "    pane_widths=['180px', '800px', '180px'],\n",
    "    height='600px',\n",
    "    grid_gap=\"30px\") "
   ]
  },
  {
   "cell_type": "code",
   "execution_count": 4,
   "metadata": {},
   "outputs": [
    {
     "data": {
      "application/vnd.jupyter.widget-view+json": {
       "model_id": "1cc5b9a7f85b4b879f373407a9f956b1",
       "version_major": 2,
       "version_minor": 0
      },
      "text/plain": [
       "Canvas(toolbar=Toolbar(toolitems=[('Home', 'Reset original view', 'home', 'home'), ('Back', 'Back to previous …"
      ]
     },
     "metadata": {},
     "output_type": "display_data"
    },
    {
     "data": {
      "text/plain": [
       "[<matplotlib.lines.Line2D at 0x7f3156c67190>]"
      ]
     },
     "execution_count": 4,
     "metadata": {},
     "output_type": "execute_result"
    }
   ],
   "source": [
    "# Access polygon you just built and feed it to a selection function\n",
    "mypoly = linebuilder.get_mask()\n",
    "inside = inside_poly(np.c_[x, y], mypoly)\n",
    "\n",
    "# Check if selection matches what you made interactively\n",
    "plt.ion()\n",
    "fig = plt.figure()\n",
    "plt.plot(x, y, 'o')\n",
    "plt.plot(x[inside], y[inside], 'o')\n",
    "plt.plot(mypoly[:,0], mypoly[:,1], 'r-')"
   ]
  }
 ],
 "metadata": {
  "kernelspec": {
   "display_name": "Python 3",
   "language": "python",
   "name": "python3"
  },
  "language_info": {
   "codemirror_mode": {
    "name": "ipython",
    "version": 3
   },
   "file_extension": ".py",
   "mimetype": "text/x-python",
   "name": "python",
   "nbconvert_exporter": "python",
   "pygments_lexer": "ipython3",
   "version": "3.8.5"
  }
 },
 "nbformat": 4,
 "nbformat_minor": 4
}
